{
 "cells": [
  {
   "cell_type": "code",
   "execution_count": 3,
   "metadata": {},
   "outputs": [],
   "source": [
    "import numpy as np\n",
    "import matplotlib.pyplot as plt\n",
    "from src.monopole import monopoleFlowSy, PATH_DATA"
   ]
  },
  {
   "cell_type": "markdown",
   "metadata": {},
   "source": [
    "# Solution for M = 0.5"
   ]
  },
  {
   "cell_type": "code",
   "execution_count": null,
   "metadata": {},
   "outputs": [],
   "source": [
    "monopoleFlowSy(\n",
    "    t           = [3, 2],\n",
    "    xlim        = (-260, 260),\n",
    "    ylim        = (-260, 260),\n",
    "    nxy         = (2*260+1, 2*260+1),\n",
    "    savePath    = PATH_DATA.joinpath('monopoleFlow', 'analytical'),\n",
    "    outName     = 'monopole_2s_3s.json')\n"
   ]
  },
  {
   "cell_type": "markdown",
   "metadata": {},
   "source": [
    "# Solution for M = 0.2"
   ]
  },
  {
   "cell_type": "code",
   "execution_count": 4,
   "metadata": {},
   "outputs": [
    {
     "name": "stdout",
     "output_type": "stream",
     "text": [
      "----- t obs = 2 -----\n",
      " - X = -100.0 - Complete\n",
      " - X = -90.0 - Complete\n",
      " - X = -80.0 - Complete\n",
      " - X = -70.0 - Complete\n",
      " - X = -60.0 - Complete\n",
      " - X = -50.0 - Complete\n",
      " - X = -40.0 - Complete\n",
      " - X = -30.0 - Complete\n",
      " - X = -20.0 - Complete\n",
      " - X = -10.0 - Complete\n",
      " - X = 0.0 - Complete\n",
      " - X = 10.0 - Complete\n",
      " - X = 20.0 - Complete\n",
      " - X = 30.0 - Complete\n",
      " - X = 40.0 - Complete\n",
      " - X = 50.0 - Complete\n",
      " - X = 60.0 - Complete\n",
      " - X = 70.0 - Complete\n",
      " - X = 80.0 - Complete\n",
      " - X = 90.0 - Complete\n",
      " - X = 100.0 - Complete\n"
     ]
    }
   ],
   "source": [
    "monopoleFlowSy(\n",
    "    t           = [2],\n",
    "    M           = 0.2,  \n",
    "    xlim        = (-100, 100),\n",
    "    ylim        = (-100, 100),\n",
    "    nxy         = (2*100+1, 2*100+1),\n",
    "    savePath    = PATH_DATA.joinpath('monopoleFlow', 'analytical'),\n",
    ")"
   ]
  }
 ],
 "metadata": {
  "kernelspec": {
   "display_name": ".venv",
   "language": "python",
   "name": "python3"
  },
  "language_info": {
   "codemirror_mode": {
    "name": "ipython",
    "version": 3
   },
   "file_extension": ".py",
   "mimetype": "text/x-python",
   "name": "python",
   "nbconvert_exporter": "python",
   "pygments_lexer": "ipython3",
   "version": "3.10.12"
  },
  "orig_nbformat": 4
 },
 "nbformat": 4,
 "nbformat_minor": 2
}
