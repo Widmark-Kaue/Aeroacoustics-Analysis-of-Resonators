{
 "cells": [
  {
   "cell_type": "code",
   "execution_count": 1,
   "metadata": {},
   "outputs": [],
   "source": [
    "from src.monopole import monopoleFlowSy, PATH_DATA\n"
   ]
  },
  {
   "cell_type": "code",
   "execution_count": 3,
   "metadata": {},
   "outputs": [
    {
     "name": "stdout",
     "output_type": "stream",
     "text": [
      "----- t obs = 3 -----\n",
      " - X = -260.0 - Complete\n"
     ]
    }
   ],
   "source": [
    "monopoleFlowSy(\n",
    "    t           = [3, 2],\n",
    "    xlim        = (-260, 260),\n",
    "    ylim        = (-260, 260),\n",
    "    nxy         = (2*260+1, 2*260+1),\n",
    "    savePath    = PATH_DATA.joinpath('monopoleFlow', 'analytical'),\n",
    "    outName     = 'monopole_2s_3s.json')\n"
   ]
  }
 ],
 "metadata": {
  "kernelspec": {
   "display_name": ".venv",
   "language": "python",
   "name": "python3"
  },
  "language_info": {
   "codemirror_mode": {
    "name": "ipython",
    "version": 3
   },
   "file_extension": ".py",
   "mimetype": "text/x-python",
   "name": "python",
   "nbconvert_exporter": "python",
   "pygments_lexer": "ipython3",
   "version": "3.10.12"
  },
  "orig_nbformat": 4
 },
 "nbformat": 4,
 "nbformat_minor": 2
}
