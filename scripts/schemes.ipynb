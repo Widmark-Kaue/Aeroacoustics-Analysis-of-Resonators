{
 "cells": [
  {
   "cell_type": "code",
   "execution_count": 1,
   "metadata": {},
   "outputs": [],
   "source": [
    "from src.utils import *\n",
    "from src.postprocess import rmsSpacial"
   ]
  },
  {
   "attachments": {},
   "cell_type": "markdown",
   "metadata": {},
   "source": [
    "# Solução numérica"
   ]
  },
  {
   "cell_type": "code",
   "execution_count": null,
   "metadata": {},
   "outputs": [],
   "source": [
    "save = False\n",
    "sol = PATH_DATA.joinpath('monopoleFlow', 'analiticSolution2s.dat')\n",
    "xa,pa = loadtxt(sol, unpack=True)\n",
    "win = 3\n",
    "window = (xa[-1]- xa[0])/win\n",
    "pos = 0\n",
    "ticks = [xa[0]]\n",
    "for i in range(win):\n",
    "    begin = pos\n",
    "    pos   = xa.searchsorted(xa[0] + (i+1)*window)\n",
    "    end   = pos \n",
    "    print(f'windows {i+1} = {(round(xa[begin],2), round(xa[end],2))}')\n",
    "    print(f'- length = {round(xa[end] - xa[begin],2)}')\n",
    "    ticks.append(xa[end])\n",
    "\n",
    "plt.axhline(0, color = 'gray', linestyle = '--', linewidth = 0.5)\n",
    "plt.plot(xa,pa, 'k')\n",
    "\n",
    "plt.title('Janelas de análise de erro')\n",
    "plt.xlabel('x [m]')\n",
    "plt.ylabel('P [Pa]')\n",
    "\n",
    "plt.xticks(ticks)\n",
    "plt.grid(axis='x', color = 'r')\n",
    "if save:\n",
    "    plt.savefig(PATH_IMAGES.joinpath('windows.png'), format = 'png', dpi = 720)\n",
    "plt.show()"
   ]
  },
  {
   "attachments": {},
   "cell_type": "markdown",
   "metadata": {},
   "source": [
    "# Análise das Malhas\n",
    "- Time Schemes\n",
    "- Spacial Schemes"
   ]
  },
  {
   "attachments": {},
   "cell_type": "markdown",
   "metadata": {},
   "source": [
    "### CircMesh\n"
   ]
  },
  {
   "cell_type": "code",
   "execution_count": null,
   "metadata": {},
   "outputs": [],
   "source": [
    "psimT = importData(case='circMesh', test='timeTest')\n",
    "psimS = importData(case = 'circMesh', test='spacialTest')\n",
    "dic   = {'Time Schemes':psimT, 'Spacial Schemes':psimS}\n",
    "\n",
    "for type in dic:\n",
    "    print(5*'-' + f'{type}' + 5*'-')\n",
    "    for scheme in dic[type]:\n",
    "        rms =  rmsSpacial((xa,pa), dic[type][scheme], windows=win)\n",
    "        print(f'- {scheme}: {[round(i*100,3) for i in rms]}%')\n",
    "    \n",
    "plotSchemes(psimT, analitc=sol, title='CircMesh - Time Schemes', save=save)\n",
    "plotSchemes(psimS, analitc=sol, title='CircMesh - Spacial Schemes', save=save)\n"
   ]
  },
  {
   "attachments": {},
   "cell_type": "markdown",
   "metadata": {},
   "source": [
    "### quadMesh"
   ]
  },
  {
   "cell_type": "code",
   "execution_count": null,
   "metadata": {},
   "outputs": [],
   "source": [
    "psimT = importData(case='quadMesh', test='timeTest')\n",
    "psimS = importData(case = 'quadMesh', test='spacialTest')\n",
    "dic   = {'Time Schemes':psimT, 'Spacial Schemes':psimS}\n",
    "\n",
    "for type in dic:\n",
    "    print(5*'-' + f'{type}' + 5*'-')\n",
    "    for scheme in dic[type]:\n",
    "        rms =  rmsSpacial((xa,pa), dic[type][scheme], windows=win)\n",
    "        print(f'- {scheme}: {[round(i*100,3) for i in rms]}%')\n",
    "\n",
    "plotSchemes(psimT, analitc=sol, title='QuadMesh - Time Schemes', save=save)\n",
    "plotSchemes(psimS, analitc=sol, title='QuadMesh - Spacial Schemes', save=save)"
   ]
  },
  {
   "attachments": {},
   "cell_type": "markdown",
   "metadata": {},
   "source": [
    "### newMesh0"
   ]
  },
  {
   "cell_type": "code",
   "execution_count": null,
   "metadata": {},
   "outputs": [],
   "source": [
    "psimT = importData(case='newMesh0', test='timeTest')\n",
    "psimS = importData(case = 'newMesh0', test='spacialTest')\n",
    "dic   = {'Time Schemes':psimT, 'Spacial Schemes':psimS}\n",
    "\n",
    "for type in dic:\n",
    "    print(5*'-' + f'{type}' + 5*'-')\n",
    "    for scheme in dic[type]:\n",
    "        rms =  rmsSpacial((xa,pa), dic[type][scheme], windows=win)\n",
    "        print(f'- {scheme}: {[round(i*100,3) for i in rms]}%')\n",
    "\n",
    "\n",
    "plotSchemes(psimT, analitc=sol, title='NewMesh0 - Time Schemes', save=save)\n",
    "plotSchemes(psimS, analitc=sol, title='NewMesh0 - Spacial Schemes', save=save)"
   ]
  },
  {
   "attachments": {},
   "cell_type": "markdown",
   "metadata": {},
   "source": [
    "### newMesh 1"
   ]
  },
  {
   "cell_type": "code",
   "execution_count": null,
   "metadata": {},
   "outputs": [],
   "source": [
    "psimT = importData(case='newMesh1', test='timeTest')\n",
    "psimS = importData(case = 'newMesh1', test='spacialTest')\n",
    "dic   = {'Time Schemes':psimT, 'Spacial Schemes':psimS}\n",
    "\n",
    "for type in dic:\n",
    "    print(5*'-' + f'{type}' + 5*'-')\n",
    "    for scheme in dic[type]:\n",
    "        rms =  rmsSpacial((xa,pa), dic[type][scheme], windows=win)\n",
    "        print(f'- {scheme}: {[round(i*100,3) for i in rms]}%')\n",
    "\n",
    "\n",
    "plotSchemes(psimT, analitc=sol, title='NewMesh1 - Time Schemes', save=save)\n",
    "plotSchemes(psimS, analitc=sol, title='NewMesh1 - Spacial Schemes', save=save)"
   ]
  },
  {
   "attachments": {},
   "cell_type": "markdown",
   "metadata": {},
   "source": [
    "### newMesh 2"
   ]
  },
  {
   "cell_type": "code",
   "execution_count": null,
   "metadata": {},
   "outputs": [],
   "source": [
    "psimT = importData(case='newMesh2', test='timeTest')\n",
    "psimS = importData(case = 'newMesh2', test='spacialTest')\n",
    "dic   = {'Time Schemes':psimT, 'Spacial Schemes':psimS}\n",
    "\n",
    "for type in dic:\n",
    "    print(5*'-' + f'{type}' + 5*'-')\n",
    "    for scheme in dic[type]:\n",
    "        rms =  rmsSpacial((xa,pa), dic[type][scheme], windows=win)\n",
    "        print(f'- {scheme}: {[round(i*100,3) for i in rms]}%')\n",
    "\n",
    "\n",
    "plotSchemes(psimT, analitc=sol, title='NewMesh2 - Time Schemes', save = save)\n",
    "plotSchemes(psimS, analitc=sol, title='NewMesh2 - Spacial Schemes', save=save)"
   ]
  }
 ],
 "metadata": {
  "kernelspec": {
   "display_name": ".venv",
   "language": "python",
   "name": "python3"
  },
  "language_info": {
   "codemirror_mode": {
    "name": "ipython",
    "version": 3
   },
   "file_extension": ".py",
   "mimetype": "text/x-python",
   "name": "python",
   "nbconvert_exporter": "python",
   "pygments_lexer": "ipython3",
   "version": "3.10.4"
  },
  "orig_nbformat": 4
 },
 "nbformat": 4,
 "nbformat_minor": 2
}
