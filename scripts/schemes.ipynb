{
 "cells": [
  {
   "cell_type": "code",
   "execution_count": 1,
   "metadata": {},
   "outputs": [],
   "source": [
    "from src.utils import *"
   ]
  },
  {
   "attachments": {},
   "cell_type": "markdown",
   "metadata": {},
   "source": [
    "# Gerando probes"
   ]
  },
  {
   "cell_type": "code",
   "execution_count": 2,
   "metadata": {},
   "outputs": [
    {
     "name": "stdout",
     "output_type": "stream",
     "text": [
      "lambda = 34.95369 [m]\n",
      "ppw = 1144.3713095813346\n"
     ]
    }
   ],
   "source": [
    "c0 = 349.5369\n",
    "f = 10\n",
    "lamb = c0/f\n",
    "ppw = lamb/200\n",
    "\n",
    "probes(number_of_probes=int(200/ppw), lim = (-100,100), name_of_archive='probes_200ppw')\n",
    "print(f'lambda = {lamb} [m]')\n",
    "print(f'ppw = {200/ppw}')"
   ]
  },
  {
   "attachments": {},
   "cell_type": "markdown",
   "metadata": {},
   "source": [
    "# Análise das Malhas"
   ]
  },
  {
   "attachments": {},
   "cell_type": "markdown",
   "metadata": {},
   "source": [
    "### CircMesh\n",
    "- Time Schemes\n",
    "- Spacial Schemes"
   ]
  },
  {
   "cell_type": "code",
   "execution_count": 3,
   "metadata": {},
   "outputs": [],
   "source": [
    "sol = PATH_DATA.joinpath('monopoleFlow', 'analiticSolution2s.dat')\n",
    "psimT = importData(case='circMesh', test='timeTest')\n",
    "psimS = importData(case = 'circMesh', test='spacialTest')\n",
    "\n",
    "\n",
    "plotSchemes(psimT, analitc=sol, title='Time Schemes', save=True)\n",
    "plotSchemes(psimS, analitc=sol, title='Spacial Schemes', save=True)"
   ]
  }
 ],
 "metadata": {
  "kernelspec": {
   "display_name": ".venv",
   "language": "python",
   "name": "python3"
  },
  "language_info": {
   "codemirror_mode": {
    "name": "ipython",
    "version": 3
   },
   "file_extension": ".py",
   "mimetype": "text/x-python",
   "name": "python",
   "nbconvert_exporter": "python",
   "pygments_lexer": "ipython3",
   "version": "3.10.11"
  },
  "orig_nbformat": 4
 },
 "nbformat": 4,
 "nbformat_minor": 2
}
